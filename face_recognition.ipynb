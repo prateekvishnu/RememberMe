{
 "cells": [
  {
   "cell_type": "code",
   "execution_count": 35,
   "id": "28cb98a3-82f5-4f87-9eea-eaa760c63523",
   "metadata": {},
   "outputs": [],
   "source": [
    "#https://medium.com/@ageitgey/machine-learning-is-fun-part-4-modern-face-recognition-with-deep-learning-c3cffc121d78\n",
    "import face_recognition\n",
    "import os\n",
    "import cv2\n",
    "import numpy as np\n",
    "\n",
    "KNOWN_FACES_DIR = 'known_faces'\n",
    "UNKNOWN_FACES_DIR = 'unknown_faces'\n",
    "FRAME_THICKNESS = 3\n",
    "FONT_THICKNESS = 2\n",
    "MODEL = 'cnn'  # 'hog' or 'cnn' - CUDA accelerated (if available) deep-learning pretrained model"
   ]
  },
  {
   "cell_type": "code",
   "execution_count": 18,
   "id": "49e061c2-3354-4668-8811-67819f9e955a",
   "metadata": {},
   "outputs": [],
   "source": [
    "def name_to_color(name):\n",
    "    # Take 3 first letters, tolower()\n",
    "    # lowercased character ord() value rage is 97 to 122, substract 97, multiply by 8\n",
    "    color = [(ord(c.lower())-97)*8 for c in name[:3]]\n",
    "    return color"
   ]
  },
  {
   "cell_type": "code",
   "execution_count": 19,
   "id": "13a1e7ed-fa37-4cc3-bb65-43570d5ca241",
   "metadata": {},
   "outputs": [
    {
     "name": "stdout",
     "output_type": "stream",
     "text": [
      "Loading known faces...\n",
      "Done.\n"
     ]
    }
   ],
   "source": [
    "print('Loading known faces...')\n",
    "known_faces = []\n",
    "known_names = []\n",
    "for name in os.listdir(KNOWN_FACES_DIR):\n",
    "\n",
    "    # Next we load every file of faces of known person\n",
    "    for filename in os.listdir(f'{KNOWN_FACES_DIR}/{name}'):\n",
    "\n",
    "        # Load an image\n",
    "        image = face_recognition.load_image_file(f'{KNOWN_FACES_DIR}/{name}/{filename}')\n",
    "\n",
    "        # Get 128-dimension face encoding\n",
    "        # Always returns a list of found faces, for this purpose we take first face only (assuming one face per image as you can't be twice on one image)\n",
    "        encoding = face_recognition.face_encodings(image)\n",
    "        if encoding:\n",
    "            # Append encodings and name\n",
    "            known_faces.append(encoding[0].tolist())\n",
    "            known_names.append(name)\n",
    "print('Done.')"
   ]
  },
  {
   "cell_type": "code",
   "execution_count": 21,
   "id": "181c9057-8489-42bc-bde6-75b990d12ea1",
   "metadata": {},
   "outputs": [
    {
     "name": "stdout",
     "output_type": "stream",
     "text": [
      "Print training algorithm...\n",
      "Done.\n"
     ]
    }
   ],
   "source": [
    "print('Print training algorithm...')\n",
    "\n",
    "# training the encodings with C-Support Vector Classification.\n",
    "# Input: face_encodings from face_recognition and names. Output: Classifier.\n",
    "\n",
    "from sklearn.svm import SVC\n",
    "# class_weight='balanced' ensures the classifier doesn't overfit to a class and avoid class imbalance issues.\n",
    "clf = SVC(class_weight='balanced', probability=True)\n",
    "clf.fit(known_faces, known_names)\n",
    "print('Done.')"
   ]
  },
  {
   "cell_type": "code",
   "execution_count": 51,
   "id": "a1fac8d6-4c18-4abd-b533-6ec06c20452a",
   "metadata": {},
   "outputs": [],
   "source": [
    "#function for output\n",
    "def face_predicitons(image):\n",
    "    # This time we first grab face locations - we'll need them to draw boxes\n",
    "    locations = face_recognition.face_locations(image, model=MODEL)\n",
    "\n",
    "    # Now since we know loctions, we can pass them to face_encodings as second argument\n",
    "    # Without that it will search for faces once again slowing down whole process\n",
    "    encodings = face_recognition.face_encodings(image, locations)\n",
    "\n",
    "    # We passed our image through face_locations and face_encodings, so we can modify it\n",
    "    # First we need to convert it from RGB to BGR as we are going to work with cv2\n",
    "    image = cv2.cvtColor(image, cv2.COLOR_RGB2BGR)\n",
    "\n",
    "    # But this time we assume that there might be more faces in an image - we can find faces of dirrerent people\n",
    "#     print(f', found {len(encodings)} face(s)')\n",
    "    for face_encoding, face_location in zip(encodings, locations):\n",
    "\n",
    "        # We use compare_faces (but might use face_distance as well)\n",
    "        # Returns array of True/False values in order of passed known_faces\n",
    "        results = clf.predict([face_encoding])[0]\n",
    "        results2= clf.predict_proba([face_encoding])[0]\n",
    "        \n",
    "        #Setting thershold for predicition accuracy to 50%\n",
    "        thershold = 0.5\n",
    "        if(np.max(results2)>thershold):\n",
    "            return results, face_location\n",
    "        else:\n",
    "            return None, None\n",
    "            \n",
    "#function for putting name\n",
    "def bbox(image, results, face_location):\n",
    "    # Each location contains positions in order: top, right, bottom, left\n",
    "    top_left = (face_location[3], face_location[0])\n",
    "    bottom_right = (face_location[1], face_location[2])\n",
    "\n",
    "    # Get color by name using our fancy function\n",
    "    color = name_to_color(results[0])\n",
    "\n",
    "    # Paint frame\n",
    "    cv2.rectangle(image, top_left, bottom_right, color, FRAME_THICKNESS)\n",
    "\n",
    "    # Now we need smaller, filled grame below for a name\n",
    "    # This time we use bottom in both corners - to start from bottom and move 50 pixels down\n",
    "    top_left = (face_location[3], face_location[2])\n",
    "    bottom_right = (face_location[1], face_location[2] + 22)\n",
    "\n",
    "    # Paint frame\n",
    "    cv2.rectangle(image, top_left, bottom_right, color, cv2.FILLED)\n",
    "\n",
    "    # Wite a name\n",
    "    cv2.putText(image, results, (face_location[3] + 10, face_location[2] + 15), cv2.FONT_HERSHEY_SIMPLEX, 0.5, (200, 200, 200), FONT_THICKNESS)\n",
    "    \n",
    "    return image"
   ]
  },
  {
   "cell_type": "code",
   "execution_count": 54,
   "id": "b024145e-4462-407c-b4d1-1e98cafd097d",
   "metadata": {},
   "outputs": [],
   "source": [
    "# calling functions\n",
    "import cv2\n",
    "frame_array =[]\n",
    "cap = cv2.VideoCapture('test_videos/2021-11-12-142656.mp4')\n",
    "# cap = cv2.VideoCapture(r'test_videos/yt5s.com-Ben Affleck & Matt Damon Take Shots at Each Other __ Omaze-(480p).mp4')\n",
    "# cap = cv2.VideoCapture('test_videos/DwyaneJohnson.mp4')\n",
    "\n",
    "# For streams:\n",
    "#   cap = cv2.VideoCapture('rtsp://url.to.stream/media.amqp')\n",
    "# Or e.g. most common ID for webcams:\n",
    "#   cap = cv2.VideoCapture(0)\n",
    "\n",
    "count = 0\n",
    "while cap.isOpened():\n",
    "    ret, frame = cap.read()\n",
    "\n",
    "    if ret:\n",
    "        # call function for recognition\n",
    "        results, face_location = face_predicitons(frame)\n",
    "        if face_location:\n",
    "            frame_array.append(bbox(frame, results, face_location))\n",
    "        count += 1 # i.e. predictions every 10 frames\n",
    "        cap.set(cv2.CAP_PROP_POS_FRAMES, count)\n",
    "\n",
    "    else:\n",
    "        cap.release()\n",
    "        break"
   ]
  },
  {
   "cell_type": "code",
   "execution_count": 55,
   "id": "52d17c23-c9fb-481b-abb7-1c70a7a22784",
   "metadata": {},
   "outputs": [],
   "source": [
    "#Setting output Video Path\n",
    "pathOut = 'output/video_Vishnu.mp4'\n",
    "fps = 25.0\n",
    "out = cv2.VideoWriter(pathOut,cv2.VideoWriter_fourcc(*'MP4V'), fps, shape)\n",
    "for i in range(len(frame_array)):\n",
    "    # writing to a image array\n",
    "    out.write(frame_array[i])\n",
    "for i in range(len(frame_array)):\n",
    "    # writing to a image array\n",
    "    out.write(frame_array[i])\n",
    "out.release()"
   ]
  },
  {
   "cell_type": "code",
   "execution_count": null,
   "id": "396a99c0-d7b3-4535-b05c-46a774990218",
   "metadata": {},
   "outputs": [],
   "source": []
  }
 ],
 "metadata": {
  "kernelspec": {
   "display_name": "cse598_gpu",
   "language": "python",
   "name": "cse598_gpu"
  },
  "language_info": {
   "codemirror_mode": {
    "name": "ipython",
    "version": 3
   },
   "file_extension": ".py",
   "mimetype": "text/x-python",
   "name": "python",
   "nbconvert_exporter": "python",
   "pygments_lexer": "ipython3",
   "version": "3.6.13"
  }
 },
 "nbformat": 4,
 "nbformat_minor": 5
}
